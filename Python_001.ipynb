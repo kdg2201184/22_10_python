{
  "nbformat": 4,
  "nbformat_minor": 0,
  "metadata": {
    "colab": {
      "provenance": [],
      "authorship_tag": "ABX9TyNXawk4C+mGZFzq0pO5kwKw",
      "include_colab_link": true
    },
    "kernelspec": {
      "name": "python3",
      "display_name": "Python 3"
    },
    "language_info": {
      "name": "python"
    }
  },
  "cells": [
    {
      "cell_type": "markdown",
      "metadata": {
        "id": "view-in-github",
        "colab_type": "text"
      },
      "source": [
        "<a href=\"https://colab.research.google.com/github/kdg2201184/22_10_python/blob/main/Python_001.ipynb\" target=\"_parent\"><img src=\"https://colab.research.google.com/assets/colab-badge.svg\" alt=\"Open In Colab\"/></a>"
      ]
    },
    {
      "cell_type": "markdown",
      "source": [
        "코럽과 깃허브의 첫번째 연결을 진행합니다."
      ],
      "metadata": {
        "id": "PMBTWL3oliaB"
      }
    },
    {
      "cell_type": "code",
      "source": [
        "print(\"Hello Github.\")\n",
        "print(\"Hello Python.\")"
      ],
      "metadata": {
        "colab": {
          "base_uri": "https://localhost:8080/"
        },
        "id": "SYCDMizsm5Bw",
        "outputId": "723b96c2-6430-41c0-9b20-2a0ca6fda3e8"
      },
      "execution_count": 4,
      "outputs": [
        {
          "output_type": "stream",
          "name": "stdout",
          "text": [
            "Hello Github.\n",
            "Hello Python.\n"
          ]
        }
      ]
    }
  ]
}